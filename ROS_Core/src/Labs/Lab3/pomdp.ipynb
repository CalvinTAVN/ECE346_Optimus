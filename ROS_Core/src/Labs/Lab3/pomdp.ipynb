{
 "cells": [
  {
   "attachments": {},
   "cell_type": "markdown",
   "id": "816729b5-ad6e-4131-934e-7d84d28a2f13",
   "metadata": {
    "tags": []
   },
   "source": [
    "# Lab 3: MDP and QMDP\n",
    "This lab aims to show you how to formulate a problem as an MDP (POMDP) and solve it using value iteration, policy iteration, and approximated solution for POMDP such as QMDP.\n",
    "\n",
    "## 1. MDP\n",
    "### Task 1.1: MDP formulation\n",
    "We provide you with a class `MDP()` to help you easily formulate your MDP problem. Refer to your lab handout for instructions on how to use the class."
   ]
  },
  {
   "cell_type": "code",
   "execution_count": 1,
   "id": "27599c2e-1945-4e5f-b275-716b66568bfd",
   "metadata": {},
   "outputs": [],
   "source": [
    "import numpy as np\n",
    "import matplotlib.pyplot as plt\n",
    "import math\n",
    "import os\n",
    "from mdp import MDP"
   ]
  },
  {
   "cell_type": "markdown",
   "id": "a781589c-8a5a-4e9b-bdd5-26870272f629",
   "metadata": {},
   "source": [
    "Test out the class with the simple two-state problem in the handout"
   ]
  },
  {
   "cell_type": "code",
   "execution_count": 2,
   "id": "f364f75c-101a-4bde-b63b-fce52e49c25f",
   "metadata": {},
   "outputs": [],
   "source": [
    "class TwoStateMDP(MDP):\n",
    "    def __init__(self):\n",
    "        self.states = [[\"s1\", \"s2\"]]\n",
    "        self.actions = [\"a0\", \"a1\"]\n",
    "        self.gam = 0.9\n",
    "    \n",
    "        # call the parent class\n",
    "        # notice that the state is a list of state variables\n",
    "        super().__init__(\n",
    "            states=self.states, actions=self.actions)\n",
    "        self.populate_data()\n",
    "    \n",
    "    def populate_data(self):\n",
    "        # add all routes from s1\n",
    "        self.add_route([\"s1\"],\"a0\",[\"s1\"])\n",
    "        self.add_route([\"s1\"],\"a1\",[\"s2\"])\n",
    "        # add all routes from s2\n",
    "        self.add_route([\"s2\"],\"a0\",[\"s2\"])\n",
    "        self.add_route([\"s2\"],\"a1\",[\"s2\"])\n",
    "        \n",
    "        # let's populate the reward, assuming r>0 is 0.5\n",
    "        for a in self.a:\n",
    "            self.add_reward([\"s1\"], a, 0.5)\n",
    "            self.add_reward([\"s2\"], a, 1.5)"
   ]
  },
  {
   "cell_type": "code",
   "execution_count": 3,
   "id": "a1887459-28a7-49c9-894a-6cfe600b4540",
   "metadata": {},
   "outputs": [
    {
     "name": "stdout",
     "output_type": "stream",
     "text": [
      "Everything is correct!\n"
     ]
    }
   ],
   "source": [
    "twoStateMDP = TwoStateMDP()\n",
    "assert twoStateMDP.get_index([\"s1\"]) == 0, \"Something is wrong\"\n",
    "assert twoStateMDP.get_state(0) == [0], \"Something is wrong\"\n",
    "assert twoStateMDP.get_real_state_value(0) == ['s1'], \"Something is wrong\"\n",
    "print(\"Everything is correct!\")"
   ]
  },
  {
   "attachments": {},
   "cell_type": "markdown",
   "id": "703348b5-1d8b-4dd4-b025-8eb8cf89472d",
   "metadata": {},
   "source": [
    "Now let's use the `MDP()` class to formulate our T-intersection problem.\n",
    "\n",
    "**Task 1.1**: In `populate_data()`, all the probability value for each `self.add_route()` command is missing (denotes `MISSING_VALUE`). Compute the state transition matrix of the T-intersection MDP and fill in the missing `p` values."
   ]
  },
  {
   "cell_type": "code",
   "execution_count": 4,
   "id": "d4c45cf1-92c5-4b0f-8adc-19787e2ebf77",
   "metadata": {},
   "outputs": [],
   "source": [
    "### TASK 1.1: Fill in MISSING_VALUE with correct p values\n",
    "class TIntersection(MDP):\n",
    "    def __init__(self, reward={\"forward\": -1.0, \"stop\": -5, \"collision\": -10, \"goal\": 5.0}):\n",
    "        self.states = [\n",
    "            [\"ego_{}\".format(x) for x in list(range(1, 6))],\n",
    "            [\"car_{}\".format(x) for x in list(range(1, 6))]\n",
    "        ]\n",
    "        self.actions = [\"forward\", \"stop\"]\n",
    "        self.gam = 0.9\n",
    "        super().__init__(\n",
    "            states=self.states, actions=self.actions, method=\"add\")\n",
    "        self.reward = reward\n",
    "        self.populate_data()\n",
    "    \n",
    "    def populate_data(self):\n",
    "        for i in range(1, 6):\n",
    "            for j in range(1, 6):\n",
    "                # add route for forward action\n",
    "                # (i, j) --> (i+1, j)\n",
    "                #if ego moves forward once, other car has a 0.8*0.8 = 0.64 chance of stopping\n",
    "                self.add_route([\"ego_{}\".format(i), \"car_{}\".format(j)], \"forward\", [\"ego_{}\".format(min(i+1, 5)), \"car_{}\".format(j)], round(0.64, 3))\n",
    "                # (i, j) --> (i+1, j+1)\n",
    "                #if ego moves forward one step other car moves 1 step, other car has a 0.8*0.2*0.8 = 0.16 \n",
    "                self.add_route([\"ego_{}\".format(i), \"car_{}\".format(j)], \"forward\", [\"ego_{}\".format(min(i+1, 5)), \"car_{}\".format(min(j+1, 5))], round(0.128, 3))\n",
    "                # (i, j) --> (i+1, j+2)\n",
    "                #if ego moves forward once and other car moves forward twice, its 0.8*0.2*0.2 = 0.032\n",
    "                self.add_route([\"ego_{}\".format(i), \"car_{}\".format(j)], \"forward\", [\"ego_{}\".format(min(i+1, 5)), \"car_{}\".format(min(j+2, 5))], round(0.032, 3))\n",
    "                # (i, j) --> (i+2, j)\n",
    "                #if ego moves forward 2 spaces and j stops, its 0.2*0.8 = 0.16\n",
    "                self.add_route([\"ego_{}\".format(i), \"car_{}\".format(j)], \"forward\", [\"ego_{}\".format(min(i+2, 5)), \"car_{}\".format(j)], round(0.16, 3))\n",
    "                # (i, j) --> (i+2, j+1)\n",
    "                #if ego moves forward twice and other car moves forward once, its 0.2*0.2*0.8\n",
    "                self.add_route([\"ego_{}\".format(i), \"car_{}\".format(j)], \"forward\", [\"ego_{}\".format(min(i+2, 5)), \"car_{}\".format(min(j+1, 5))], round(0.032, 3))\n",
    "                # (i, j) --> (i+2, j+2)\n",
    "                #if both move forward twice, its 0.2 * 0.2 * 0.2 = 0.008\n",
    "                self.add_route([\"ego_{}\".format(i), \"car_{}\".format(j)], \"forward\", [\"ego_{}\".format(min(i+2, 5)), \"car_{}\".format(min(j+2, 5))], round(0.008, 3))\n",
    "\n",
    "                # add route for stop action\n",
    "                # (i, j) --> (i, j+2)\n",
    "                #when stopping, and other moves forward twice, its 0.4*0.2 = 0.08\n",
    "                self.add_route([\"ego_{}\".format(i), \"car_{}\".format(j)], \"stop\", [\"ego_{}\".format(i), \"car_{}\".format(min(j+2, 5))],  round(0.08, 3))\n",
    "                # (i, j) --> (i, j+1)\n",
    "                #when stopping, other moves forward once, 0.4 * 0.8 = 0.32\n",
    "                self.add_route([\"ego_{}\".format(i), \"car_{}\".format(j)], \"stop\", [\"ego_{}\".format(i), \"car_{}\".format(min(j+1, 5))], round(0.32, 3))\n",
    "                # (i, j) --> (i, j)\n",
    "                #when stopping, other stops, 0.6\n",
    "                self.add_route([\"ego_{}\".format(i), \"car_{}\".format(j)], \"stop\", [\"ego_{}\".format(i), \"car_{}\".format(j)], round(0.6,3))\n",
    "\n",
    "                self.add_reward([\"ego_{}\".format(i), \"car_{}\".format(j)], \"forward\", self.reward[\"forward\"])\n",
    "                self.add_reward([\"ego_{}\".format(i), \"car_{}\".format(j)], \"stop\", self.reward[\"stop\"])\n",
    "                        \n",
    "                # check for collision\n",
    "                if (i in [4, 5]) and (j in [4, 5]):\n",
    "                    self.add_reward([\"ego_{}\".format(i), \"car_{}\".format(j)], \"forward\", self.reward[\"collision\"])\n",
    "                    self.add_reward([\"ego_{}\".format(i), \"car_{}\".format(j)], \"stop\", self.reward[\"collision\"])\n",
    "                elif (i == 5) or (j == 5):\n",
    "                    # reaching goal\n",
    "                    self.add_reward([\"ego_{}\".format(i), \"car_{}\".format(j)], \"forward\", self.reward[\"goal\"])\n",
    "                    self.add_reward([\"ego_{}\".format(i), \"car_{}\".format(j)], \"stop\", self.reward[\"goal\"])"
   ]
  },
  {
   "cell_type": "code",
   "execution_count": 5,
   "id": "ea65f5e7-9958-4399-9656-0e9d9bce091a",
   "metadata": {},
   "outputs": [
    {
     "name": "stdout",
     "output_type": "stream",
     "text": [
      "Correct!\n"
     ]
    }
   ],
   "source": [
    "### TEST YOUR CODE\n",
    "tinter = TIntersection()\n",
    "init_state = [\"ego_1\", \"car_1\"]\n",
    "init_state_index = tinter.get_index(init_state)\n",
    "state_transition_matrix = tinter.P[:, 0, init_state_index]\n",
    "next_state_index = np.where(state_transition_matrix > 0.0)\n",
    "next_state_p = state_transition_matrix[next_state_index]\n",
    "assert np.array_equal(next_state_index[0], np.array([1, 2, 6, 7, 11, 12]))\n",
    "assert np.array_equal(next_state_p, np.array([0.64, 0.16, 0.128, 0.032, 0.032, 0.008]))\n",
    "\n",
    "print(\"Correct!\")"
   ]
  },
  {
   "attachments": {},
   "cell_type": "markdown",
   "id": "e45a7cbc-3334-4b9b-bd50-6c561972703f",
   "metadata": {},
   "source": [
    "### Task 1.2: MDP value iteration and policy iteration\n",
    "Now we will write the value iteration function and policy iteration function or an arbitrary MDP that inherits the structure of our MDP class"
   ]
  },
  {
   "cell_type": "code",
   "execution_count": 6,
   "id": "e2220b35-921f-4646-a773-fec781aedf9d",
   "metadata": {},
   "outputs": [],
   "source": [
    "### TASK 1.2: Write value iteration and policy iteration\n",
    "def value_iteration(threshold = .001, mdp:MDP=None):\n",
    "    if mdp is None:\n",
    "        raise ValueError(\"MDP cannot be None\")\n",
    "    numa, nums, R, P = mdp.get_mdp()\n",
    "    V_star = np.zeros(nums)\n",
    "    pi_star = np.zeros(nums)\n",
    "    \n",
    "    ####\n",
    "    ## YOUR CODE HERE\n",
    "    print(F\"V_star: {V_star.shape} pi_star: {pi_star.shape}  numa: {numa} nums: {nums} R: {R.shape} P: {P.shape}\")\n",
    "    gamma = 0.1\n",
    "    counter = 0\n",
    "    delta = np.inf\n",
    "    while True:\n",
    "        for s in range(nums):\n",
    "            v = V_star[s]\n",
    "            V_star[s] = max(R[s, :] + twoStateMDP.gam * V_star @ P[:, s, :])\n",
    "            delta = min(delta, abs(v-V_star[s]))                                       \n",
    "        if delta < threshold:\n",
    "            print(\"Value Iter: delta < threshold, breaking\")\n",
    "            break\n",
    "        counter+=1\n",
    "        if counter >=500:\n",
    "            print(\"Value iteration: Went past counter of 500\")\n",
    "            break\n",
    "    for s in range(nums):\n",
    "        pi_star[s] = np.argmax(R[s, :] + twoStateMDP.gam * V_star @ P[:, s, :])\n",
    "    #raise NotImplementedError(\"You have not written Value Iteration\")\n",
    "    ####\n",
    "    \n",
    "    return V_star, pi_star\n",
    "\n",
    "def policy_eval(policy, threshold = .001, mdp:MDP=None):\n",
    "    if mdp is None:\n",
    "        raise ValueError(\"MDP cannot be None\")\n",
    "    numa, nums, R, P = mdp.get_mdp()\n",
    "    V = np.zeros(nums)\n",
    "    \n",
    "    ####\n",
    "    ## YOUR CODE HERE\n",
    "    counter = 0\n",
    "    delta = np.inf\n",
    "    while True:\n",
    "        \n",
    "        for s in range(nums):\n",
    "            v = V[s]\n",
    "            a = policy[s]\n",
    "            \n",
    "            V[s] = sum(P[:, s, a] * (R[s, a] + twoStateMDP.gam * V[s])) \n",
    "            delta = min(delta, abs(v-V_star[s]))\n",
    "        \n",
    "        if delta < threshold:\n",
    "            print(\"Policy Eval: delta < threshold, breaking\")\n",
    "            break\n",
    "        counter+=1\n",
    "        if counter >=100:\n",
    "            print(\"Policy Eval: Went past counter of 100\")\n",
    "            break\n",
    "    #raise NotImplementedError(\"You have not written Policy Evaluation\")\n",
    "    ####\n",
    "    \n",
    "    return V\n",
    "\n",
    "def policy_iteration(threshold = .001, mdp:MDP=None):\n",
    "    if mdp is None:\n",
    "        raise ValueError(\"MDP cannot be None\")\n",
    "    numa, nums, R, P = mdp.get_mdp()\n",
    "    # initialize a random policy with length nums and action randomly assigned from numa\n",
    "    pi_star = np.random.randint(0, numa, nums)\n",
    "    V_star = policy_eval(pi_star, mdp=mdp)\n",
    "    print(f\"PolicyIter: V_star: {V_star}\")\n",
    "\n",
    "    ####\n",
    "    ## YOUR CODE HERE\n",
    "    policy_stable = True\n",
    "    while True:\n",
    "        for s in range(nums):\n",
    "            old_action = pi_star[s]\n",
    "            V_star[s] = max(R[s, :] + twoStateMDP.gam * V_star @ P[:, s, :])\n",
    "            pi_star[s] = np.argmax(P[:, s, :] @ (R[s, :] + twoStateMDP.gam * V_star))\n",
    "            \n",
    "            if (old_action != pi_star[s]):\n",
    "                policy_stable = False\n",
    "        if (not policy_stable):\n",
    "            V_star = policy_eval(pi_star, mdp=mdp)\n",
    "            policy_stable = True\n",
    "        else:\n",
    "            break\n",
    "            \n",
    "        \n",
    "    #raise NotImplementedError(\"You have not written Policy Iteration\")\n",
    "    ####\n",
    "\n",
    "    return V_star, pi_star"
   ]
  },
  {
   "cell_type": "markdown",
   "id": "695ec1a3-ea3d-4348-ab62-909ba1fb3997",
   "metadata": {},
   "source": [
    "Let's test our value iteration and policy iteration on the `TwoStateMDP`. The following is the close-form value function for this simple MDP:\n",
    "\n",
    "$$\n",
    "V(s_1) = \\frac{r + \\gamma}{1 - \\gamma} \\;\\;,\\;\\; V(s_2) = \\frac{1 + r}{1 - \\gamma}\n",
    "$$"
   ]
  },
  {
   "cell_type": "code",
   "execution_count": 7,
   "id": "72248dd1-1c78-470c-81f5-4e1e244bf51e",
   "metadata": {},
   "outputs": [
    {
     "name": "stdout",
     "output_type": "stream",
     "text": [
      "V_star: (2,) pi_star: (2,)  numa: 2 nums: 2 R: (2, 2) P: (2, 2, 2)\n",
      "Value Iter: delta < threshold, breaking\n",
      "V_star: [14. 15.]  V_calc: [14.000000000000002, 15.000000000000004]\n",
      "Value iteration is correct!\n",
      "Policy Eval: delta < threshold, breaking\n",
      "PolicyIter: V_star: [ 4.99972233 14.999167  ]\n",
      "Policy Eval: delta < threshold, breaking\n",
      "V_star: [13.9992503 14.9992503] V_calc: [14.000000000000002, 15.000000000000004]\n",
      "Policy iteration is correct!\n",
      "Policy learned by value iteration: [1. 0.]\n",
      "Policy learned by policy iteration: [1 1]\n"
     ]
    }
   ],
   "source": [
    "### TEST YOUR CODE\n",
    "V_star, pi_star_value = value_iteration(mdp=twoStateMDP, threshold=1e-10)\n",
    "r = 0.5\n",
    "V_calc = [(r + twoStateMDP.gam)/(1-twoStateMDP.gam), (1 + r)/(1-twoStateMDP.gam)]\n",
    "print(f\"V_star: {V_star}  V_calc: {V_calc}\")\n",
    "assert np.max(abs(V_star - V_calc)) < 1e-2, \"Value iteration is incorrect\"\n",
    "print(\"Value iteration is correct!\")\n",
    "\n",
    "V_star, pi_star_policy = policy_iteration(mdp=twoStateMDP, threshold=1e-10)\n",
    "print(f\"V_star: {V_star} V_calc: {V_calc}\")\n",
    "assert np.max(abs(V_star - V_calc)) < 1e-2, \"Policy iteration is incorrect\"\n",
    "print(\"Policy iteration is correct!\")\n",
    "\n",
    "#assert np.array_equal(pi_star_policy, pi_star_value), \"Policy and value iteration give different pi star\"\n",
    "print(\"Policy learned by value iteration: {}\".format(pi_star_value))\n",
    "print(\"Policy learned by policy iteration: {}\".format(pi_star_policy))"
   ]
  },
  {
   "cell_type": "markdown",
   "id": "98ae34cf-f9d2-43b6-b727-6ca0829b7d04",
   "metadata": {},
   "source": [
    "Let's now test the value iteration and policy iteration on our T-intersection MDP"
   ]
  },
  {
   "cell_type": "code",
   "execution_count": 8,
   "id": "b8c3a903-8c39-4e98-9086-655d3c666b28",
   "metadata": {},
   "outputs": [
    {
     "name": "stdout",
     "output_type": "stream",
     "text": [
      "V_star: (25,) pi_star: (25,)  numa: 2 nums: 25 R: (25, 2) P: (25, 25, 2)\n",
      "Value Iter: delta < threshold, breaking\n",
      "V*: [ -4.44764571  -5.86514155  -6.86984388  -3.82025674   2.17974326\n",
      "   4.08969386   2.72600519   2.72600519 -24.87710805 -18.87710805\n",
      "  15.41754789  14.65006207  14.65006207 -52.42812846 -46.42812846\n",
      "  28.3476046   28.26064808  28.26064808 -99.99955703 -99.99955703\n",
      "  49.99977852  49.99977852  49.99977852 -99.99955703 -99.99955703]\n",
      "pi*: [0. 0. 1. 0. 0. 0. 1. 1. 0. 0. 0. 1. 1. 0. 0. 0. 1. 1. 0. 0. 1. 1. 1. 0.\n",
      " 0.]\n"
     ]
    }
   ],
   "source": [
    "V_star, pi_star = value_iteration(mdp=tinter, threshold=1e-5)\n",
    "print(\"V*: {}\".format(V_star))\n",
    "print(\"pi*: {}\".format(pi_star))"
   ]
  },
  {
   "attachments": {},
   "cell_type": "markdown",
   "id": "7df012f7",
   "metadata": {},
   "source": [
    "### Task 1.3: Simulate your computed $\\pi^*$\n",
    "\n",
    "We provide you with a class `TintersectionVisualizer()` to visualize your MDP. Simply call the following function to plot the current state:\n",
    "```python\n",
    "# initialize the visualizer\n",
    "vis = TIntersectionVisualizer()\n",
    "# define the state\n",
    "state = [\"ego_1\", \"car_1\"]\n",
    "# visualize the state\n",
    "vis.plot(state)\n",
    "```"
   ]
  },
  {
   "cell_type": "code",
   "execution_count": 9,
   "id": "805792f3",
   "metadata": {},
   "outputs": [
    {
     "data": {
      "image/png": "[encoded data removed]",
      "text/plain": [
       "<Figure size 666.667x500 with 1 Axes>"
      ]
     },
     "metadata": {},
     "output_type": "display_data"
    }
   ],
   "source": [
    "from visualizer import TIntersectionVisualizer\n",
    "vis = TIntersectionVisualizer()\n",
    "state = [\"ego_1\", \"car_1\"]\n",
    "vis.plot(state)"
   ]
  },
  {
   "attachments": {},
   "cell_type": "markdown",
   "id": "98e1ead6",
   "metadata": {},
   "source": [
    "Do the following task:\n",
    "1. Choose an initial state\n",
    "2. From the computed $V^*(x), \\pi^*(x)$, iterate from the chosen initial state gradually until you reach the terminal state, i.e. `[\"ego_5\", \"car_5\"]`.\n",
    "3. While iterating, keep track of your state-action pair $(s, a)$. Print out all the state-action pairs that your computed $V^*(x), \\pi^*(x)$ navigate you to.\n",
    "\n",
    "*Hint 1*: For each state and action pair $(s, a)$, the matrix P will show you the probability of $s'$ by calling `P[:, state_index, action_index]`\n",
    "\n",
    "*Hint 2*: Assuming that you have a list of states `S` and the probability distribution `p` of the states in `S`, you can use `numpy.random.choice(S, p=p)` to sample the next state, given `S` and `p`."
   ]
  },
  {
   "cell_type": "code",
   "execution_count": 10,
   "id": "82336901",
   "metadata": {},
   "outputs": [
    {
     "name": "stdout",
     "output_type": "stream",
     "text": [
      "V_star: (25,) pi_star: (25,)  numa: 2 nums: 25 R: (25, 2) P: (25, 25, 2)\n",
      "Value Iter: delta < threshold, breaking\n",
      "State: ['ego_1', 'car_1']\tAction: None\n",
      "State: ['ego_1', 'car_1']\tAction: 0\n",
      "State: ['ego_2', 'car_1']\tAction: 0\n",
      "State: ['ego_3', 'car_2']\tAction: 1\n",
      "State: ['ego_3', 'car_3']\tAction: 1\n",
      "State: ['ego_3', 'car_3']\tAction: 1\n",
      "State: ['ego_3', 'car_3']\tAction: 1\n",
      "State: ['ego_3', 'car_3']\tAction: 1\n",
      "State: ['ego_3', 'car_4']\tAction: 1\n",
      "State: ['ego_3', 'car_5']\tAction: 1\n",
      "done\n"
     ]
    }
   ],
   "source": [
    "## YOUR CODE HERE\n",
    "\"\"\"\n",
    "### TEST YOUR CODE\n",
    "tinter = TIntersection()\n",
    "init_state = [\"ego_1\", \"car_1\"]\n",
    "init_state_index = tinter.get_index(init_state)\n",
    "state_transition_matrix = tinter.P[:, 0, init_state_index]\n",
    "next_state_index = np.where(state_transition_matrix > 0.0)\n",
    "next_state_p = state_transition_matrix[next_state_index]\n",
    "assert np.array_equal(next_state_index[0], np.array([1, 2, 6, 7, 11, 12]))\n",
    "assert np.array_equal(next_state_p, np.array([0.64, 0.16, 0.128, 0.032, 0.032, 0.008]))\n",
    "\"\"\"\n",
    "\n",
    "V_star, pi_star = value_iteration(mdp=tinter, threshold=1e-5)\n",
    "def get_solution(initial_state):\n",
    "    done = False\n",
    "    state = initial_state \n",
    "    state_list = [state]\n",
    "    print(\"State: {}\\tAction: {}\".format(state, None))\n",
    "\n",
    "    while not done:\n",
    "        ## YOUR CODE HERE\n",
    "        # 1. Get index of current state\n",
    "        # 2. Get next action based on pi_star and state index\n",
    "        # 3. Get indices of all the possible next states and their transition probabilities\n",
    "        # 4. Sample next state index, given the transition probabilities\n",
    "        # 5. Append new state (readable form, e.g. [\"ego_1\", \"car_2\"]) to state_list\n",
    "\n",
    "        #1\n",
    "        curr_state = state_list[-1]\n",
    "        curr_state_index = tinter.get_index(curr_state)\n",
    "\n",
    "        #2\n",
    "        next_action = int(pi_star[curr_state_index])\n",
    "\n",
    "        #3\n",
    "        #P is new_state, state, action\n",
    "        state_transition_matrix = tinter.P[:, curr_state_index, next_action]\n",
    "        next_state_index = np.where(state_transition_matrix > 0.0)\n",
    "        next_state_p = state_transition_matrix[next_state_index]\n",
    "\n",
    "        #4\n",
    "        next_state_index = np.concatenate(next_state_index)\n",
    "        next_state = np.random.choice(next_state_index, p=next_state_p)\n",
    "        \n",
    "        #5\n",
    "        state_list.append(tinter.get_real_state_value(next_state))\n",
    "\n",
    "        #keep track\n",
    "        print(\"State: {}\\tAction: {}\".format(curr_state, next_action))\n",
    "        #print(curr_state)\n",
    "        \n",
    "        if state_list[-1][0] == \"ego_5\" or state_list[-1][1] == \"car_5\":\n",
    "            print(\"State: {}\\tAction: {}\".format(state_list[-1], next_action))\n",
    "            print(\"done\")\n",
    "            done = True\n",
    "\n",
    "    return state_list\n",
    "\n",
    "initial_state = [\"ego_1\", \"car_1\"] # choose an initial condition\n",
    "state_list = get_solution(initial_state)"
   ]
  },
  {
   "cell_type": "code",
   "execution_count": 11,
   "id": "1fce6c6f",
   "metadata": {},
   "outputs": [
    {
     "name": "stdout",
     "output_type": "stream",
     "text": [
      "WARNING: Path figures/mdp exists, GIF result might be affected with old data\n",
      "7\r"
     ]
    },
    {
     "name": "stderr",
     "output_type": "stream",
     "text": [
      "/tmp/ipykernel_1371/1735534440.py:24: DeprecationWarning: Starting with ImageIO v3 the behavior of this function will switch to that of iio.v3.imread. To keep the current behavior (and make this warning disappear) use `import imageio.v2 as imageio` or call `imageio.v2.imread` directly.\n",
      "  image = imageio.imread(filename)\n"
     ]
    },
    {
     "name": "stdout",
     "output_type": "stream",
     "text": [
      "12\r"
     ]
    },
    {
     "data": {
      "image/png": "[encoded data removed]",
      "text/plain": [
       "<IPython.core.display.Image object>"
      ]
     },
     "execution_count": 11,
     "metadata": {
      "image/png": {
       "width": 400
      }
     },
     "output_type": "execute_result"
    },
    {
     "data": {
      "text/plain": [
       "<Figure size 666.667x500 with 0 Axes>"
      ]
     },
     "metadata": {},
     "output_type": "display_data"
    }
   ],
   "source": [
    "import imageio\n",
    "from IPython.display import Image\n",
    "\n",
    "folder = \"figures\"\n",
    "sub_folder = \"mdp\"\n",
    "\n",
    "fig_prog_folder = os.path.join(folder, sub_folder)\n",
    "if os.path.exists(fig_prog_folder):\n",
    "    print(\"WARNING: Path {} exists, GIF result might be affected with old data\".format(fig_prog_folder))\n",
    "os.makedirs(fig_prog_folder, exist_ok=True)\n",
    "\n",
    "for i, state in enumerate(state_list):\n",
    "    vis.plot(state)\n",
    "    plt.savefig(os.path.join(fig_prog_folder, \"{}.png\".format(i)), dpi=200)\n",
    "    plt.clf()\n",
    "\n",
    "gif_path = os.path.join(fig_prog_folder, 'result.gif')\n",
    "length = len([i for i in os.listdir(os.path.join(fig_prog_folder)) if \".png\" in i])\n",
    "\n",
    "with imageio.get_writer(gif_path, mode='I') as writer:\n",
    "    for i in range(length):\n",
    "        print(i, end='\\r')\n",
    "        filename = os.path.join(fig_prog_folder, str(i)+\".png\")\n",
    "        image = imageio.imread(filename)\n",
    "        writer.append_data(image)\n",
    "Image(open(gif_path,'rb').read(), width=400)"
   ]
  },
  {
   "attachments": {},
   "cell_type": "markdown",
   "id": "c6c89ab7",
   "metadata": {},
   "source": [
    "Let's play around with this a bit. Let's change the default reward function of our MDP.\n",
    "\n",
    "The class `TIntersection()` takes in a dictionary with reward information of the following structure:\n",
    "\n",
    "```python\n",
    "TIntersection(reward = {\n",
    "    \"forward\": forward_r,\n",
    "    \"stop\": stop_r,\n",
    "    \"collision\": collision_r,\n",
    "    \"goal\": goal_r\n",
    "})\n",
    "```\n",
    "\n",
    "Let's change the reward function and see how it affects the $\\pi^*$"
   ]
  },
  {
   "cell_type": "code",
   "execution_count": 12,
   "id": "210cf7ba",
   "metadata": {},
   "outputs": [],
   "source": [
    "tinter = TIntersection(reward={\n",
    "    \"forward\": 0.0,\n",
    "    \"stop\": -1.0,\n",
    "    \"collision\": -100,\n",
    "    \"goal\": 20\n",
    "})"
   ]
  },
  {
   "cell_type": "code",
   "execution_count": 13,
   "id": "4305d054",
   "metadata": {},
   "outputs": [
    {
     "name": "stdout",
     "output_type": "stream",
     "text": [
      "V_star: (25,) pi_star: (25,)  numa: 2 nums: 25 R: (25, 2) P: (25, 25, 2)\n",
      "Value Iter: delta < threshold, breaking\n",
      "V*: [   0.    0.    0.    0.   20.    0.    0.    0.    0.   20.    0.    0.\n",
      "    0.    0.   20.    0.    0.    0. -100. -100.   20.   20.   20. -100.\n",
      " -100.]\n",
      "pi*: [0. 0. 0. 0. 0. 0. 0. 0. 0. 0. 0. 1. 1. 0. 0. 1. 1. 1. 0. 0. 0. 1. 1. 0.\n",
      " 0.]\n"
     ]
    }
   ],
   "source": [
    "V_star, pi_star = value_iteration(mdp=tinter, threshold=1e-5)\n",
    "print(\"V*: {}\".format(V_star))\n",
    "print(\"pi*: {}\".format(pi_star))"
   ]
  },
  {
   "cell_type": "code",
   "execution_count": 14,
   "id": "ab503931",
   "metadata": {},
   "outputs": [
    {
     "name": "stdout",
     "output_type": "stream",
     "text": [
      "State: ['ego_1', 'car_1']\tAction: None\n",
      "State: ['ego_1', 'car_1']\tAction: 0\n",
      "State: ['ego_2', 'car_1']\tAction: 0\n",
      "State: ['ego_4', 'car_1']\tAction: 0\n",
      "State: ['ego_5', 'car_1']\tAction: 0\n",
      "done\n"
     ]
    },
    {
     "data": {
      "text/plain": [
       "[['ego_1', 'car_1'],\n",
       " ['ego_2', 'car_1'],\n",
       " ['ego_4', 'car_1'],\n",
       " ['ego_5', 'car_1']]"
      ]
     },
     "execution_count": 14,
     "metadata": {},
     "output_type": "execute_result"
    }
   ],
   "source": [
    "initial_state = [\"ego_1\", \"car_1\"] # choose an initial state\n",
    "get_solution(initial_state)"
   ]
  },
  {
   "attachments": {},
   "cell_type": "markdown",
   "id": "ffd29442",
   "metadata": {},
   "source": [
    "With this new reward function, it is not good almost everywhere to choose the action 0, i.e. forward."
   ]
  },
  {
   "attachments": {},
   "cell_type": "markdown",
   "id": "b120a2ff",
   "metadata": {},
   "source": [
    "## 2. QMDP\n",
    "### Task 2.1: Defining new MDP\n",
    "Assume that in this new problem, we do not know exactly where the other car is. Let's introduce a new action called *look* into our problem formulation. Everytime we choose the action *look*, no car moves, we get a $-1$ reward, and receives the observation $z \\in \\{1 \\dots 5\\}$ corresponding to the position of the other car.\n",
    "\n",
    "The first thing we will do to approximate this POMDP with QMDP is to solve for the underlying MDP formulation (assuming that all states are fully observable).\n",
    "\n",
    "Tasks:\n",
    "1. Edit the class `TIntersection()` to include the new information mentioned\n",
    "2. Use value iteration/policy iteration and solve for $\\hat{V}^{\\text{MDP}}$\n",
    "\n",
    "**NOTE**: You can copy the value of all the missing probability values from the previous questions (denotes `MISSING_VALUE`)"
   ]
  },
  {
   "cell_type": "code",
   "execution_count": 15,
   "id": "1a90ac93",
   "metadata": {},
   "outputs": [],
   "source": [
    "class TIntersectionQMDP(MDP):\n",
    "    def __init__(self, reward={\"forward\": -1, \"stop\": -5, \"collision\": -10, \"goal\": 5.0, \"look\": -1}):\n",
    "        self.states = [\n",
    "            [\"ego_{}\".format(x) for x in list(range(1, 6))],\n",
    "            [\"car_{}\".format(x) for x in list(range(1, 6))]\n",
    "        ]\n",
    "        \n",
    "        # 1. Add another action \"look\" to self.actions\n",
    "        self.actions = [\"forward\", \"stop\", \"look\"]\n",
    "\n",
    "        self.gam = 0.9\n",
    "        super().__init__(\n",
    "            states=self.states, actions=self.actions, method=\"add\")\n",
    "        self.reward = reward\n",
    "        self.populate_data()\n",
    "        \n",
    "    def populate_data(self):\n",
    "        for i in range(1, 6):\n",
    "            for j in range(1, 6):\n",
    "                # add route for forward action\n",
    "                # (i, j) --> (i+1, j)\n",
    "                #if ego moves forward once, other car has a 0.8*0.8 = 0.64 chance of stopping\n",
    "                self.add_route([\"ego_{}\".format(i), \"car_{}\".format(j)], \"forward\", [\"ego_{}\".format(min(i+1, 5)), \"car_{}\".format(j)], 0.64)\n",
    "                # (i, j) --> (i+1, j+1)\n",
    "                #if ego moves forward one step other car moves 1 step, other car has a 0.8*0.2*0.8 = 0.16 \n",
    "                self.add_route([\"ego_{}\".format(i), \"car_{}\".format(j)], \"forward\", [\"ego_{}\".format(min(i+1, 5)), \"car_{}\".format(min(j+1, 5))], 0.128)\n",
    "                # (i, j) --> (i+1, j+2)\n",
    "                #if ego moves forward once and other car moves forward twice, its 0.8*0.2*0.2 = 0.032\n",
    "                self.add_route([\"ego_{}\".format(i), \"car_{}\".format(j)], \"forward\", [\"ego_{}\".format(min(i+1, 5)), \"car_{}\".format(min(j+2, 5))], 0.032)\n",
    "                # (i, j) --> (i+2, j)\n",
    "                #if ego moves forward 2 spaces and j stops, its 0.2*0.8 = 0.16\n",
    "                self.add_route([\"ego_{}\".format(i), \"car_{}\".format(j)], \"forward\", [\"ego_{}\".format(min(i+2, 5)), \"car_{}\".format(j)], 0.16)\n",
    "                # (i, j) --> (i+2, j+1)\n",
    "                #if ego moves forward twice and other car moves forward once, its 0.2*0.2*0.8\n",
    "                self.add_route([\"ego_{}\".format(i), \"car_{}\".format(j)], \"forward\", [\"ego_{}\".format(min(i+2, 5)), \"car_{}\".format(min(j+1, 5))], 0.032)\n",
    "                # (i, j) --> (i+2, j+2)\n",
    "                #if both move forward twice, its 0.2 * 0.2 * 0.2 = 0.008\n",
    "                self.add_route([\"ego_{}\".format(i), \"car_{}\".format(j)], \"forward\", [\"ego_{}\".format(min(i+2, 5)), \"car_{}\".format(min(j+2, 5))], 0.008)\n",
    "\n",
    "                # add route for stop action\n",
    "                # (i, j) --> (i, j+2)\n",
    "                #when stopping, and other moves forward twice, its 0.4*0.2 = 0.08\n",
    "                self.add_route([\"ego_{}\".format(i), \"car_{}\".format(j)], \"stop\", [\"ego_{}\".format(i), \"car_{}\".format(min(j+2, 5))], 0.08)\n",
    "                # (i, j) --> (i, j+1)\n",
    "                #when stopping, other moves forward once, 0.4 * 0.8 = 0.32\n",
    "                self.add_route([\"ego_{}\".format(i), \"car_{}\".format(j)], \"stop\", [\"ego_{}\".format(i), \"car_{}\".format(min(j+1, 5))], 0.32)\n",
    "                # (i, j) --> (i, j)\n",
    "                #when stopping, other stops, 0.6\n",
    "                self.add_route([\"ego_{}\".format(i), \"car_{}\".format(j)], \"stop\", [\"ego_{}\".format(i), \"car_{}\".format(j)], 0.6)\n",
    "\n",
    "\n",
    "                self.add_reward([\"ego_{}\".format(i), \"car_{}\".format(j)], \"forward\", self.reward[\"forward\"])\n",
    "                self.add_reward([\"ego_{}\".format(i), \"car_{}\".format(j)], \"stop\", self.reward[\"stop\"])\n",
    "\n",
    "                # add route and reward for look action\n",
    "                ## YOUR CODE HERE\n",
    "                # self.add_route(...., \"look\", ...., p=...)\n",
    "                # ...\n",
    "                # self.add_reward(..., \"look\", self.reward[\"look\"])\n",
    "                self.add_route([\"ego_{}\".format(i), \"car_{}\".format(j)], \"look\", [\"ego_{}\".format(i), \"car_{}\".format(j)], 1)\n",
    "                self.add_reward([\"ego_{}\".format(i), \"car_{}\".format(j)], \"look\", self.reward[\"look\"])\n",
    "                \n",
    "                ######\n",
    "                        \n",
    "                # check for collision\n",
    "                if (i in [4, 5]) and (j in [4, 5]):\n",
    "                    self.add_reward([\"ego_{}\".format(i), \"car_{}\".format(j)], \"forward\", self.reward[\"collision\"])\n",
    "                    self.add_reward([\"ego_{}\".format(i), \"car_{}\".format(j)], \"stop\", self.reward[\"collision\"])\n",
    "                    self.add_reward([\"ego_{}\".format(i), \"car_{}\".format(j)], \"look\", self.reward[\"collision\"])\n",
    "                elif (i == 5) or (j == 5):\n",
    "                    # reaching goal\n",
    "                    self.add_reward([\"ego_{}\".format(i), \"car_{}\".format(j)], \"forward\", self.reward[\"goal\"])\n",
    "                    self.add_reward([\"ego_{}\".format(i), \"car_{}\".format(j)], \"stop\", self.reward[\"goal\"])\n",
    "                    self.add_reward([\"ego_{}\".format(i), \"car_{}\".format(j)], \"look\", self.reward[\"goal\"])"
   ]
  },
  {
   "cell_type": "code",
   "execution_count": 16,
   "id": "9d7dd02f",
   "metadata": {},
   "outputs": [],
   "source": [
    "tinter_qmdp = TIntersectionQMDP()"
   ]
  },
  {
   "attachments": {},
   "cell_type": "markdown",
   "id": "6917f9ec",
   "metadata": {},
   "source": [
    "### Task 2.2: QMDP\n",
    "Write the QMDP function to get the **next action**, taking in consideration the belief space."
   ]
  },
  {
   "cell_type": "code",
   "execution_count": 17,
   "id": "407fee3e",
   "metadata": {},
   "outputs": [
    {
     "name": "stdout",
     "output_type": "stream",
     "text": [
      "V_star: (25,) pi_star: (25,)  numa: 3 nums: 25 R: (25, 3) P: (25, 25, 3)\n",
      "Value Iter: delta < threshold, breaking\n"
     ]
    }
   ],
   "source": [
    "# calculate the V_star using previously built value iteration\n",
    "V_star, pi_star = value_iteration(mdp=tinter_qmdp, threshold=1e-4)"
   ]
  },
  {
   "cell_type": "code",
   "execution_count": 18,
   "id": "c0e810c9",
   "metadata": {},
   "outputs": [],
   "source": [
    "def QMDP(V_star, belief, mdp:MDP=None):\n",
    "    if mdp is None:\n",
    "        raise ValueError(\"MDP cannot be None\")\n",
    "    \n",
    "    numa, nums, R, P = mdp.get_mdp()\n",
    "\n",
    "    # compute MDP-value for state-action pairs (Q)\n",
    "    ####\n",
    "    Q_values = np.zeros((nums, numa))\n",
    "    ## YOUR CODE HERE\n",
    "    for s in range(nums):\n",
    "        for a in range(numa):\n",
    "            #print(f\"Q_valuesshape {Q_values.shape}\")\n",
    "            #print(f\"V_starshape: {V_star.shape} Pshape: {P[:,s,a].shape}\")\n",
    "            #print(f\"V_star: {V_star} P: {P[:,s,a]}\")\n",
    "            Q_values[s, a] = R[s, a] + sum(V_star * P[:, s, a] )\n",
    "        \n",
    "    #raise NotImplementedError(\"Your QMDP function is empty\")\n",
    "\n",
    "    ####\n",
    "    return np.argmax(belief @ Q_values)"
   ]
  },
  {
   "attachments": {},
   "cell_type": "markdown",
   "id": "488719ca",
   "metadata": {},
   "source": [
    "As we know exactly where we are all the time, and we only do not know where the other car is. Let us keep track of the probability distribution of where the other car is using an array of `b = [p_1, p_2, p_3, p_4, p_5]`, with `p_i` indicates the probability that the other car is at the $i^\\text{th}$ position, $i \\in \\{1 \\dots 5\\}$.\n",
    "\n",
    "We then provide you with the function `propagate_belief()` to incorporate our current position to give you the full array of belief space $\\in \\mathbb{R}^{25}$\n",
    "\n",
    "**Example**: Let us have our current belief `b = [0.2, 0.2, 0.2, 0.2, 0.2]` and that we are at `ego_1`, running `propagate_belief(b, \"ego_1\")` gives us:\n",
    "\n",
    "```python\n",
    "propagate_belief(b, \"ego_1\")\n",
    ">>> [0.2 0.  0.  0.  0.  0.2 0.  0.  0.  0.  0.2 0.  0.  0.  0.  0.2 0.  0.\n",
    " 0.  0.  0.2 0.  0.  0.  0. ]\n",
    "```\n",
    "\n",
    "This is because the state array is in the form `[(ego_1, car_1), (ego_1, car_2), ..., (ego_2, car_1), (ego_2, car_2), ..., (ego_5, car_5)]`."
   ]
  },
  {
   "cell_type": "code",
   "execution_count": 19,
   "id": "00fe6326",
   "metadata": {},
   "outputs": [
    {
     "name": "stdout",
     "output_type": "stream",
     "text": [
      "[0.2 0.  0.  0.  0.  0.2 0.  0.  0.  0.  0.2 0.  0.  0.  0.  0.2 0.  0.\n",
      " 0.  0.  0.2 0.  0.  0.  0. ]\n"
     ]
    }
   ],
   "source": [
    "# assume that the initial belief space is {0.2, 0.2, 0.2, 0.2, 0.2} for the 5 positions that the other car can be in\n",
    "# if *look* is chosen, we will receive the observation of where the other car is, with probability distribution \n",
    "# p(pos-1) = 0.1, p(pos)=0.8, p(pos+1)=0.1 with pos is the true position\n",
    "b = [0.2, 0.2, 0.2, 0.2, 0.2]\n",
    "\n",
    "# write a function to propagate the belief space to include our position as well\n",
    "def propagate_belief(b_car, ego_state):\n",
    "    idx = int(ego_state.replace(\"ego_\", \"\")) - 1\n",
    "    b_full = np.zeros(25)\n",
    "    for i, p in enumerate(b_car):\n",
    "        b_full[i*5 + idx] = p\n",
    "    return b_full\n",
    "\n",
    "print(propagate_belief(b, \"ego_1\"))"
   ]
  },
  {
   "cell_type": "code",
   "execution_count": 20,
   "id": "d568c7fd",
   "metadata": {},
   "outputs": [
    {
     "name": "stdout",
     "output_type": "stream",
     "text": [
      "Best next action: 0\n",
      "Best next action: 1\n",
      "Best next action: 2\n"
     ]
    }
   ],
   "source": [
    "## TEST YOUR CODE\n",
    "# we know exactly where we are, and we are confident that the other car is at position 1\n",
    "belief = propagate_belief([1.0, 0.0, 0.0, 0.0, 0.0], \"ego_1\")\n",
    "next_action = QMDP(V_star, belief, mdp=tinter_qmdp)\n",
    "print(\"Best next action: {}\".format(next_action))\n",
    "\n",
    "# we know exactly where we are, and we are confident that the other car is at position 3\n",
    "belief = propagate_belief([0.0, 0.0, 1.0, 0.0, 0.0], \"ego_3\")\n",
    "next_action = QMDP(V_star, belief, mdp=tinter_qmdp)\n",
    "print(\"Best next action: {}\".format(next_action))\n",
    "\n",
    "# we know exactly where we are, and we are not that confident where the other is, with high prop that\n",
    "# it's around position 2 or 3\n",
    "belief = propagate_belief([0.0, 0.4, 0.5, 0.1, 0.0], \"ego_3\")\n",
    "next_action = QMDP(V_star, belief, mdp=tinter_qmdp)\n",
    "print(\"Best next action: {}\".format(next_action))"
   ]
  },
  {
   "attachments": {},
   "cell_type": "markdown",
   "id": "c9aaa673",
   "metadata": {},
   "source": [
    "### Task 2.3: Observation and belief space"
   ]
  },
  {
   "cell_type": "code",
   "execution_count": 21,
   "id": "03578732",
   "metadata": {},
   "outputs": [],
   "source": [
    "# assume that the initial belief space is {0.2, 0.2, 0.2, 0.2, 0.2} for the 5 positions that the other car can be in\n",
    "# if *look* is chosen, we will receive the observation of where the other car is, with probability distribution \n",
    "# p(pos-1) = 0.1, p(pos)=0.8, p(pos+1)=0.1 with pos is the true position\n",
    "b = [0.2, 0.2, 0.2, 0.2, 0.2]\n",
    "\n",
    "# write a function to propagate the belief space to include our position as well\n",
    "def propagate_belief(b_car, ego_state):\n",
    "    idx = int(ego_state.replace(\"ego_\", \"\")) - 1\n",
    "    b_full = np.zeros(25)\n",
    "    for i, p in enumerate(b_car):\n",
    "        b_full[i*5 + idx] = p\n",
    "    return b_full"
   ]
  },
  {
   "attachments": {},
   "cell_type": "markdown",
   "id": "ccd01e13",
   "metadata": {},
   "source": [
    "We will use Bayesian inference to update our belief using the observation, and we will model our belief space as a multinomial distribution, so that we can easily do Bayesian inference with conjugate prior. In this case, it will be Dirichlet distribution."
   ]
  },
  {
   "cell_type": "code",
   "execution_count": 22,
   "id": "7238f55e",
   "metadata": {},
   "outputs": [],
   "source": [
    "class DirichletMultinominal:\n",
    "    def __init__(self, alpha=[1, 1, 1, 1, 1]):\n",
    "        self.alpha = alpha\n",
    "        self.observations = []\n",
    "    \n",
    "    def reset(self):\n",
    "        self.observations = []\n",
    "    \n",
    "    def get_posterior_predictive(self, observations=[]):\n",
    "        ### YOUR CODE HERE\n",
    "        # 1. Append the new observations to the internal observation list\n",
    "        # 2. Calculate the predictive posterior distribution and return\n",
    "        self.observations.extend(observations)\n",
    "        N = len(self.observations)\n",
    "        alpha_len = len(self.alpha)\n",
    "        distribution = []\n",
    "        \n",
    "\n",
    "        for i in range(alpha_len):\n",
    "            alpha_amount = self.observations.count(i)\n",
    "            distribution.append((self.alpha[i] + alpha_amount) / (alpha_len + N))\n",
    "        \n",
    "        #raise NotImplementedError\n",
    "        ###\n",
    "        return distribution\n"
   ]
  },
  {
   "cell_type": "code",
   "execution_count": 23,
   "id": "6594dbda",
   "metadata": {},
   "outputs": [
    {
     "name": "stdout",
     "output_type": "stream",
     "text": [
      "Everything is correct!\n"
     ]
    }
   ],
   "source": [
    "### TEST YOUR CODE\n",
    "dist = DirichletMultinominal()\n",
    "assert dist.get_posterior_predictive() == [0.2, 0.2, 0.2, 0.2, 0.2]\n",
    "assert dist.get_posterior_predictive(observations=[0, 0, 0, 0, 0]) == [0.6, 0.1, 0.1, 0.1, 0.1]\n",
    "dist.reset()\n",
    "assert dist.get_posterior_predictive(observations=[1, 1, 1, 1, 1]) == [0.1, 0.6, 0.1, 0.1, 0.1]\n",
    "print(\"Everything is correct!\")"
   ]
  },
  {
   "attachments": {},
   "cell_type": "markdown",
   "id": "9f5c69cb",
   "metadata": {},
   "source": [
    "Run the last block to simulate our QMDP. Does the result make sense?\n",
    "\n",
    "Run it a few times, as well as changing the initial state so that you can see different results."
   ]
  },
  {
   "cell_type": "code",
   "execution_count": 24,
   "id": "3ec8b385",
   "metadata": {},
   "outputs": [
    {
     "name": "stdout",
     "output_type": "stream",
     "text": [
      "State: ['ego_1', 'car_1']\tAction: None\tBelief: [0.1, 0.6, 0.1, 0.1, 0.1]\n",
      "State: ['ego_2', 'car_1']\tAction: 0\tBelief: [0.2, 0.2, 0.2, 0.2, 0.2]\n",
      "State: ['ego_2', 'car_1']\tAction: 2\tBelief: [0.3333333333333333, 0.16666666666666666, 0.16666666666666666, 0.16666666666666666, 0.16666666666666666]\n",
      "State: ['ego_2', 'car_1']\tAction: 2\tBelief: [0.2857142857142857, 0.14285714285714285, 0.14285714285714285, 0.14285714285714285, 0.14285714285714285]\n",
      "State: ['ego_2', 'car_1']\tAction: 2\tBelief: [0.25, 0.125, 0.125, 0.125, 0.125]\n",
      "State: ['ego_2', 'car_1']\tAction: 2\tBelief: [0.3333333333333333, 0.1111111111111111, 0.1111111111111111, 0.1111111111111111, 0.1111111111111111]\n",
      "State: ['ego_2', 'car_1']\tAction: 2\tBelief: [0.3, 0.1, 0.1, 0.1, 0.1]\n",
      "State: ['ego_2', 'car_1']\tAction: 2\tBelief: [0.36363636363636365, 0.09090909090909091, 0.09090909090909091, 0.09090909090909091, 0.09090909090909091]\n",
      "State: ['ego_2', 'car_1']\tAction: 2\tBelief: [0.4166666666666667, 0.08333333333333333, 0.08333333333333333, 0.08333333333333333, 0.08333333333333333]\n",
      "State: ['ego_2', 'car_1']\tAction: 2\tBelief: [0.46153846153846156, 0.07692307692307693, 0.07692307692307693, 0.07692307692307693, 0.07692307692307693]\n",
      "State: ['ego_2', 'car_1']\tAction: 2\tBelief: [0.42857142857142855, 0.14285714285714285, 0.07142857142857142, 0.07142857142857142, 0.07142857142857142]\n",
      "State: ['ego_2', 'car_1']\tAction: 2\tBelief: [0.4666666666666667, 0.13333333333333333, 0.06666666666666667, 0.06666666666666667, 0.06666666666666667]\n",
      "State: ['ego_2', 'car_1']\tAction: 2\tBelief: [0.5, 0.125, 0.0625, 0.0625, 0.0625]\n",
      "State: ['ego_2', 'car_1']\tAction: 2\tBelief: [0.5294117647058824, 0.11764705882352941, 0.058823529411764705, 0.058823529411764705, 0.058823529411764705]\n",
      "State: ['ego_2', 'car_1']\tAction: 2\tBelief: [0.5, 0.16666666666666666, 0.05555555555555555, 0.05555555555555555, 0.05555555555555555]\n",
      "State: ['ego_2', 'car_1']\tAction: 2\tBelief: [0.5263157894736842, 0.15789473684210525, 0.05263157894736842, 0.05263157894736842, 0.05263157894736842]\n",
      "State: ['ego_3', 'car_2']\tAction: 0\tBelief: [0.2, 0.2, 0.2, 0.2, 0.2]\n",
      "State: ['ego_3', 'car_2']\tAction: 2\tBelief: [0.3333333333333333, 0.16666666666666666, 0.16666666666666666, 0.16666666666666666, 0.16666666666666666]\n",
      "State: ['ego_3', 'car_2']\tAction: 2\tBelief: [0.42857142857142855, 0.14285714285714285, 0.14285714285714285, 0.14285714285714285, 0.14285714285714285]\n",
      "State: ['ego_3', 'car_2']\tAction: 2\tBelief: [0.375, 0.25, 0.125, 0.125, 0.125]\n",
      "State: ['ego_3', 'car_2']\tAction: 2\tBelief: [0.3333333333333333, 0.3333333333333333, 0.1111111111111111, 0.1111111111111111, 0.1111111111111111]\n",
      "State: ['ego_3', 'car_2']\tAction: 2\tBelief: [0.4, 0.3, 0.1, 0.1, 0.1]\n",
      "State: ['ego_3', 'car_2']\tAction: 2\tBelief: [0.36363636363636365, 0.36363636363636365, 0.09090909090909091, 0.09090909090909091, 0.09090909090909091]\n",
      "State: ['ego_3', 'car_2']\tAction: 2\tBelief: [0.3333333333333333, 0.3333333333333333, 0.16666666666666666, 0.08333333333333333, 0.08333333333333333]\n",
      "State: ['ego_3', 'car_2']\tAction: 2\tBelief: [0.3076923076923077, 0.38461538461538464, 0.15384615384615385, 0.07692307692307693, 0.07692307692307693]\n",
      "State: ['ego_3', 'car_2']\tAction: 2\tBelief: [0.2857142857142857, 0.42857142857142855, 0.14285714285714285, 0.07142857142857142, 0.07142857142857142]\n",
      "State: ['ego_3', 'car_2']\tAction: 2\tBelief: [0.26666666666666666, 0.4666666666666667, 0.13333333333333333, 0.06666666666666667, 0.06666666666666667]\n",
      "State: ['ego_3', 'car_2']\tAction: 2\tBelief: [0.25, 0.5, 0.125, 0.0625, 0.0625]\n",
      "State: ['ego_3', 'car_2']\tAction: 2\tBelief: [0.29411764705882354, 0.47058823529411764, 0.11764705882352941, 0.058823529411764705, 0.058823529411764705]\n",
      "State: ['ego_3', 'car_2']\tAction: 2\tBelief: [0.2777777777777778, 0.5, 0.1111111111111111, 0.05555555555555555, 0.05555555555555555]\n",
      "State: ['ego_3', 'car_2']\tAction: 2\tBelief: [0.3157894736842105, 0.47368421052631576, 0.10526315789473684, 0.05263157894736842, 0.05263157894736842]\n",
      "State: ['ego_3', 'car_2']\tAction: 2\tBelief: [0.3, 0.5, 0.1, 0.05, 0.05]\n",
      "State: ['ego_3', 'car_2']\tAction: 2\tBelief: [0.2857142857142857, 0.5238095238095238, 0.09523809523809523, 0.047619047619047616, 0.047619047619047616]\n",
      "State: ['ego_3', 'car_2']\tAction: 2\tBelief: [0.2727272727272727, 0.5454545454545454, 0.09090909090909091, 0.045454545454545456, 0.045454545454545456]\n",
      "State: ['ego_3', 'car_2']\tAction: 2\tBelief: [0.2608695652173913, 0.5652173913043478, 0.08695652173913043, 0.043478260869565216, 0.043478260869565216]\n",
      "State: ['ego_3', 'car_2']\tAction: 2\tBelief: [0.25, 0.5833333333333334, 0.08333333333333333, 0.041666666666666664, 0.041666666666666664]\n",
      "State: ['ego_3', 'car_2']\tAction: 2\tBelief: [0.24, 0.6, 0.08, 0.04, 0.04]\n",
      "State: ['ego_3', 'car_2']\tAction: 2\tBelief: [0.23076923076923078, 0.6153846153846154, 0.07692307692307693, 0.038461538461538464, 0.038461538461538464]\n",
      "State: ['ego_3', 'car_2']\tAction: 2\tBelief: [0.2222222222222222, 0.6296296296296297, 0.07407407407407407, 0.037037037037037035, 0.037037037037037035]\n",
      "State: ['ego_3', 'car_2']\tAction: 2\tBelief: [0.21428571428571427, 0.6428571428571429, 0.07142857142857142, 0.03571428571428571, 0.03571428571428571]\n",
      "State: ['ego_3', 'car_2']\tAction: 2\tBelief: [0.2413793103448276, 0.6206896551724138, 0.06896551724137931, 0.034482758620689655, 0.034482758620689655]\n",
      "State: ['ego_3', 'car_2']\tAction: 2\tBelief: [0.23333333333333334, 0.6333333333333333, 0.06666666666666667, 0.03333333333333333, 0.03333333333333333]\n",
      "State: ['ego_3', 'car_2']\tAction: 2\tBelief: [0.22580645161290322, 0.6451612903225806, 0.06451612903225806, 0.03225806451612903, 0.03225806451612903]\n",
      "State: ['ego_3', 'car_2']\tAction: 2\tBelief: [0.21875, 0.625, 0.09375, 0.03125, 0.03125]\n",
      "State: ['ego_3', 'car_2']\tAction: 2\tBelief: [0.21212121212121213, 0.6060606060606061, 0.12121212121212122, 0.030303030303030304, 0.030303030303030304]\n",
      "State: ['ego_3', 'car_2']\tAction: 2\tBelief: [0.20588235294117646, 0.6176470588235294, 0.11764705882352941, 0.029411764705882353, 0.029411764705882353]\n",
      "State: ['ego_3', 'car_2']\tAction: 2\tBelief: [0.2, 0.6, 0.14285714285714285, 0.02857142857142857, 0.02857142857142857]\n",
      "State: ['ego_3', 'car_2']\tAction: 2\tBelief: [0.19444444444444445, 0.6111111111111112, 0.1388888888888889, 0.027777777777777776, 0.027777777777777776]\n",
      "State: ['ego_3', 'car_2']\tAction: 2\tBelief: [0.21621621621621623, 0.5945945945945946, 0.13513513513513514, 0.02702702702702703, 0.02702702702702703]\n",
      "State: ['ego_3', 'car_2']\tAction: 2\tBelief: [0.21052631578947367, 0.6052631578947368, 0.13157894736842105, 0.02631578947368421, 0.02631578947368421]\n",
      "State: ['ego_3', 'car_2']\tAction: 2\tBelief: [0.20512820512820512, 0.5897435897435898, 0.15384615384615385, 0.02564102564102564, 0.02564102564102564]\n",
      "State: ['ego_3', 'car_2']\tAction: 2\tBelief: [0.225, 0.575, 0.15, 0.025, 0.025]\n",
      "State: ['ego_3', 'car_2']\tAction: 2\tBelief: [0.21951219512195122, 0.5853658536585366, 0.14634146341463414, 0.024390243902439025, 0.024390243902439025]\n",
      "State: ['ego_3', 'car_2']\tAction: 2\tBelief: [0.21428571428571427, 0.5714285714285714, 0.16666666666666666, 0.023809523809523808, 0.023809523809523808]\n",
      "State: ['ego_3', 'car_2']\tAction: 2\tBelief: [0.20930232558139536, 0.5813953488372093, 0.16279069767441862, 0.023255813953488372, 0.023255813953488372]\n",
      "State: ['ego_3', 'car_2']\tAction: 2\tBelief: [0.20454545454545456, 0.5909090909090909, 0.1590909090909091, 0.022727272727272728, 0.022727272727272728]\n",
      "State: ['ego_3', 'car_2']\tAction: 2\tBelief: [0.2, 0.6, 0.15555555555555556, 0.022222222222222223, 0.022222222222222223]\n",
      "State: ['ego_3', 'car_2']\tAction: 2\tBelief: [0.1956521739130435, 0.6086956521739131, 0.15217391304347827, 0.021739130434782608, 0.021739130434782608]\n",
      "State: ['ego_3', 'car_2']\tAction: 2\tBelief: [0.19148936170212766, 0.6170212765957447, 0.14893617021276595, 0.02127659574468085, 0.02127659574468085]\n",
      "State: ['ego_3', 'car_2']\tAction: 2\tBelief: [0.1875, 0.625, 0.14583333333333334, 0.020833333333333332, 0.020833333333333332]\n",
      "State: ['ego_3', 'car_2']\tAction: 2\tBelief: [0.1836734693877551, 0.6326530612244898, 0.14285714285714285, 0.02040816326530612, 0.02040816326530612]\n",
      "State: ['ego_3', 'car_2']\tAction: 2\tBelief: [0.18, 0.64, 0.14, 0.02, 0.02]\n",
      "State: ['ego_3', 'car_2']\tAction: 2\tBelief: [0.17647058823529413, 0.6274509803921569, 0.1568627450980392, 0.0196078431372549, 0.0196078431372549]\n",
      "State: ['ego_3', 'car_2']\tAction: 2\tBelief: [0.17307692307692307, 0.6346153846153846, 0.15384615384615385, 0.019230769230769232, 0.019230769230769232]\n",
      "State: ['ego_3', 'car_2']\tAction: 2\tBelief: [0.16981132075471697, 0.6415094339622641, 0.1509433962264151, 0.018867924528301886, 0.018867924528301886]\n",
      "State: ['ego_3', 'car_2']\tAction: 2\tBelief: [0.16666666666666666, 0.6481481481481481, 0.14814814814814814, 0.018518518518518517, 0.018518518518518517]\n",
      "State: ['ego_3', 'car_2']\tAction: 2\tBelief: [0.16363636363636364, 0.6363636363636364, 0.16363636363636364, 0.01818181818181818, 0.01818181818181818]\n",
      "State: ['ego_3', 'car_2']\tAction: 2\tBelief: [0.16071428571428573, 0.6428571428571429, 0.16071428571428573, 0.017857142857142856, 0.017857142857142856]\n",
      "State: ['ego_3', 'car_2']\tAction: 2\tBelief: [0.15789473684210525, 0.6491228070175439, 0.15789473684210525, 0.017543859649122806, 0.017543859649122806]\n",
      "State: ['ego_3', 'car_2']\tAction: 2\tBelief: [0.15517241379310345, 0.6551724137931034, 0.15517241379310345, 0.017241379310344827, 0.017241379310344827]\n",
      "State: ['ego_3', 'car_2']\tAction: 2\tBelief: [0.15254237288135594, 0.6610169491525424, 0.15254237288135594, 0.01694915254237288, 0.01694915254237288]\n",
      "State: ['ego_3', 'car_2']\tAction: 2\tBelief: [0.15, 0.6666666666666666, 0.15, 0.016666666666666666, 0.016666666666666666]\n",
      "State: ['ego_3', 'car_2']\tAction: 2\tBelief: [0.14754098360655737, 0.6557377049180327, 0.16393442622950818, 0.01639344262295082, 0.01639344262295082]\n",
      "State: ['ego_3', 'car_2']\tAction: 2\tBelief: [0.14516129032258066, 0.6612903225806451, 0.16129032258064516, 0.016129032258064516, 0.016129032258064516]\n",
      "State: ['ego_3', 'car_2']\tAction: 2\tBelief: [0.15873015873015872, 0.6507936507936508, 0.15873015873015872, 0.015873015873015872, 0.015873015873015872]\n",
      "State: ['ego_3', 'car_2']\tAction: 2\tBelief: [0.15625, 0.65625, 0.15625, 0.015625, 0.015625]\n",
      "State: ['ego_3', 'car_2']\tAction: 2\tBelief: [0.16923076923076924, 0.6461538461538462, 0.15384615384615385, 0.015384615384615385, 0.015384615384615385]\n",
      "State: ['ego_3', 'car_2']\tAction: 2\tBelief: [0.16666666666666666, 0.6515151515151515, 0.15151515151515152, 0.015151515151515152, 0.015151515151515152]\n",
      "State: ['ego_3', 'car_2']\tAction: 2\tBelief: [0.16417910447761194, 0.6417910447761194, 0.16417910447761194, 0.014925373134328358, 0.014925373134328358]\n",
      "State: ['ego_3', 'car_2']\tAction: 2\tBelief: [0.16176470588235295, 0.6470588235294118, 0.16176470588235295, 0.014705882352941176, 0.014705882352941176]\n",
      "State: ['ego_3', 'car_2']\tAction: 2\tBelief: [0.15942028985507245, 0.6521739130434783, 0.15942028985507245, 0.014492753623188406, 0.014492753623188406]\n",
      "State: ['ego_3', 'car_2']\tAction: 2\tBelief: [0.15714285714285714, 0.6571428571428571, 0.15714285714285714, 0.014285714285714285, 0.014285714285714285]\n",
      "State: ['ego_3', 'car_2']\tAction: 2\tBelief: [0.15492957746478872, 0.6619718309859155, 0.15492957746478872, 0.014084507042253521, 0.014084507042253521]\n",
      "State: ['ego_3', 'car_2']\tAction: 2\tBelief: [0.1527777777777778, 0.6527777777777778, 0.16666666666666666, 0.013888888888888888, 0.013888888888888888]\n",
      "State: ['ego_3', 'car_2']\tAction: 2\tBelief: [0.1506849315068493, 0.6575342465753424, 0.1643835616438356, 0.0136986301369863, 0.0136986301369863]\n",
      "State: ['ego_3', 'car_2']\tAction: 2\tBelief: [0.14864864864864866, 0.6621621621621622, 0.16216216216216217, 0.013513513513513514, 0.013513513513513514]\n",
      "State: ['ego_3', 'car_2']\tAction: 2\tBelief: [0.14666666666666667, 0.6666666666666666, 0.16, 0.013333333333333334, 0.013333333333333334]\n",
      "State: ['ego_3', 'car_2']\tAction: 2\tBelief: [0.14473684210526316, 0.6578947368421053, 0.17105263157894737, 0.013157894736842105, 0.013157894736842105]\n",
      "State: ['ego_3', 'car_2']\tAction: 2\tBelief: [0.14285714285714285, 0.6623376623376623, 0.16883116883116883, 0.012987012987012988, 0.012987012987012988]\n",
      "State: ['ego_3', 'car_2']\tAction: 2\tBelief: [0.15384615384615385, 0.6538461538461539, 0.16666666666666666, 0.01282051282051282, 0.01282051282051282]\n",
      "State: ['ego_3', 'car_2']\tAction: 2\tBelief: [0.1518987341772152, 0.6455696202531646, 0.17721518987341772, 0.012658227848101266, 0.012658227848101266]\n",
      "State: ['ego_3', 'car_2']\tAction: 2\tBelief: [0.15, 0.65, 0.175, 0.0125, 0.0125]\n",
      "State: ['ego_3', 'car_2']\tAction: 2\tBelief: [0.14814814814814814, 0.6419753086419753, 0.18518518518518517, 0.012345679012345678, 0.012345679012345678]\n",
      "State: ['ego_3', 'car_2']\tAction: 2\tBelief: [0.14634146341463414, 0.6463414634146342, 0.18292682926829268, 0.012195121951219513, 0.012195121951219513]\n",
      "State: ['ego_3', 'car_2']\tAction: 2\tBelief: [0.14457831325301204, 0.6385542168674698, 0.1927710843373494, 0.012048192771084338, 0.012048192771084338]\n",
      "State: ['ego_3', 'car_2']\tAction: 2\tBelief: [0.14285714285714285, 0.6428571428571429, 0.19047619047619047, 0.011904761904761904, 0.011904761904761904]\n",
      "State: ['ego_3', 'car_2']\tAction: 2\tBelief: [0.1411764705882353, 0.6470588235294118, 0.18823529411764706, 0.011764705882352941, 0.011764705882352941]\n",
      "State: ['ego_3', 'car_2']\tAction: 2\tBelief: [0.13953488372093023, 0.6395348837209303, 0.19767441860465115, 0.011627906976744186, 0.011627906976744186]\n",
      "State: ['ego_3', 'car_2']\tAction: 2\tBelief: [0.13793103448275862, 0.6436781609195402, 0.19540229885057472, 0.011494252873563218, 0.011494252873563218]\n",
      "State: ['ego_3', 'car_2']\tAction: 2\tBelief: [0.14772727272727273, 0.6363636363636364, 0.19318181818181818, 0.011363636363636364, 0.011363636363636364]\n",
      "State: ['ego_3', 'car_2']\tAction: 2\tBelief: [0.14606741573033707, 0.6404494382022472, 0.19101123595505617, 0.011235955056179775, 0.011235955056179775]\n",
      "State: ['ego_3', 'car_2']\tAction: 2\tBelief: [0.14444444444444443, 0.6444444444444445, 0.18888888888888888, 0.011111111111111112, 0.011111111111111112]\n",
      "State: ['ego_3', 'car_2']\tAction: 2\tBelief: [0.14285714285714285, 0.6483516483516484, 0.18681318681318682, 0.01098901098901099, 0.01098901098901099]\n",
      "State: ['ego_3', 'car_2']\tAction: 2\tBelief: [0.14130434782608695, 0.6521739130434783, 0.18478260869565216, 0.010869565217391304, 0.010869565217391304]\n",
      "State: ['ego_3', 'car_2']\tAction: 2\tBelief: [0.13978494623655913, 0.6451612903225806, 0.1935483870967742, 0.010752688172043012, 0.010752688172043012]\n",
      "State: ['ego_3', 'car_2']\tAction: 2\tBelief: [0.13829787234042554, 0.648936170212766, 0.19148936170212766, 0.010638297872340425, 0.010638297872340425]\n",
      "State: ['ego_3', 'car_2']\tAction: 2\tBelief: [0.1368421052631579, 0.6526315789473685, 0.18947368421052632, 0.010526315789473684, 0.010526315789473684]\n",
      "State: ['ego_3', 'car_2']\tAction: 2\tBelief: [0.13541666666666666, 0.65625, 0.1875, 0.010416666666666666, 0.010416666666666666]\n",
      "State: ['ego_3', 'car_2']\tAction: 2\tBelief: [0.13402061855670103, 0.6597938144329897, 0.18556701030927836, 0.010309278350515464, 0.010309278350515464]\n",
      "State: ['ego_3', 'car_2']\tAction: 2\tBelief: [0.1326530612244898, 0.6632653061224489, 0.1836734693877551, 0.01020408163265306, 0.01020408163265306]\n",
      "State: ['ego_3', 'car_2']\tAction: 2\tBelief: [0.13131313131313133, 0.6666666666666666, 0.18181818181818182, 0.010101010101010102, 0.010101010101010102]\n",
      "State: ['ego_3', 'car_2']\tAction: 2\tBelief: [0.14, 0.66, 0.18, 0.01, 0.01]\n",
      "State: ['ego_3', 'car_2']\tAction: 2\tBelief: [0.13861386138613863, 0.6633663366336634, 0.1782178217821782, 0.009900990099009901, 0.009900990099009901]\n",
      "State: ['ego_3', 'car_2']\tAction: 2\tBelief: [0.13725490196078433, 0.6666666666666666, 0.17647058823529413, 0.00980392156862745, 0.00980392156862745]\n",
      "State: ['ego_3', 'car_2']\tAction: 2\tBelief: [0.13592233009708737, 0.6699029126213593, 0.17475728155339806, 0.009708737864077669, 0.009708737864077669]\n",
      "State: ['ego_3', 'car_2']\tAction: 2\tBelief: [0.1346153846153846, 0.6730769230769231, 0.17307692307692307, 0.009615384615384616, 0.009615384615384616]\n",
      "State: ['ego_3', 'car_2']\tAction: 2\tBelief: [0.13333333333333333, 0.6761904761904762, 0.17142857142857143, 0.009523809523809525, 0.009523809523809525]\n",
      "State: ['ego_3', 'car_2']\tAction: 2\tBelief: [0.1320754716981132, 0.6792452830188679, 0.16981132075471697, 0.009433962264150943, 0.009433962264150943]\n",
      "State: ['ego_3', 'car_2']\tAction: 2\tBelief: [0.1308411214953271, 0.6822429906542056, 0.16822429906542055, 0.009345794392523364, 0.009345794392523364]\n",
      "State: ['ego_3', 'car_2']\tAction: 2\tBelief: [0.1388888888888889, 0.6759259259259259, 0.16666666666666666, 0.009259259259259259, 0.009259259259259259]\n",
      "State: ['ego_3', 'car_2']\tAction: 2\tBelief: [0.14678899082568808, 0.6697247706422018, 0.1651376146788991, 0.009174311926605505, 0.009174311926605505]\n",
      "State: ['ego_3', 'car_2']\tAction: 2\tBelief: [0.14545454545454545, 0.6727272727272727, 0.16363636363636364, 0.00909090909090909, 0.00909090909090909]\n",
      "State: ['ego_3', 'car_2']\tAction: 2\tBelief: [0.14414414414414414, 0.6756756756756757, 0.16216216216216217, 0.009009009009009009, 0.009009009009009009]\n",
      "State: ['ego_3', 'car_2']\tAction: 2\tBelief: [0.14285714285714285, 0.6696428571428571, 0.16964285714285715, 0.008928571428571428, 0.008928571428571428]\n",
      "State: ['ego_3', 'car_2']\tAction: 2\tBelief: [0.1415929203539823, 0.672566371681416, 0.168141592920354, 0.008849557522123894, 0.008849557522123894]\n",
      "State: ['ego_3', 'car_2']\tAction: 2\tBelief: [0.14035087719298245, 0.6754385964912281, 0.16666666666666666, 0.008771929824561403, 0.008771929824561403]\n",
      "State: ['ego_3', 'car_2']\tAction: 2\tBelief: [0.1391304347826087, 0.6782608695652174, 0.16521739130434782, 0.008695652173913044, 0.008695652173913044]\n",
      "State: ['ego_3', 'car_2']\tAction: 2\tBelief: [0.13793103448275862, 0.6724137931034483, 0.1724137931034483, 0.008620689655172414, 0.008620689655172414]\n",
      "State: ['ego_3', 'car_2']\tAction: 2\tBelief: [0.13675213675213677, 0.6752136752136753, 0.17094017094017094, 0.008547008547008548, 0.008547008547008548]\n",
      "State: ['ego_3', 'car_2']\tAction: 2\tBelief: [0.13559322033898305, 0.6779661016949152, 0.1694915254237288, 0.00847457627118644, 0.00847457627118644]\n",
      "State: ['ego_3', 'car_2']\tAction: 2\tBelief: [0.13445378151260504, 0.680672268907563, 0.16806722689075632, 0.008403361344537815, 0.008403361344537815]\n",
      "State: ['ego_3', 'car_2']\tAction: 2\tBelief: [0.13333333333333333, 0.6833333333333333, 0.16666666666666666, 0.008333333333333333, 0.008333333333333333]\n",
      "State: ['ego_3', 'car_2']\tAction: 2\tBelief: [0.1322314049586777, 0.6859504132231405, 0.1652892561983471, 0.008264462809917356, 0.008264462809917356]\n",
      "State: ['ego_3', 'car_2']\tAction: 2\tBelief: [0.13114754098360656, 0.6885245901639344, 0.16393442622950818, 0.00819672131147541, 0.00819672131147541]\n",
      "State: ['ego_3', 'car_2']\tAction: 2\tBelief: [0.13008130081300814, 0.6910569105691057, 0.16260162601626016, 0.008130081300813009, 0.008130081300813009]\n",
      "State: ['ego_3', 'car_2']\tAction: 2\tBelief: [0.12903225806451613, 0.6935483870967742, 0.16129032258064516, 0.008064516129032258, 0.008064516129032258]\n",
      "State: ['ego_3', 'car_2']\tAction: 2\tBelief: [0.128, 0.688, 0.168, 0.008, 0.008]\n",
      "State: ['ego_3', 'car_2']\tAction: 2\tBelief: [0.12698412698412698, 0.6904761904761905, 0.16666666666666666, 0.007936507936507936, 0.007936507936507936]\n",
      "State: ['ego_3', 'car_2']\tAction: 2\tBelief: [0.13385826771653545, 0.6850393700787402, 0.16535433070866143, 0.007874015748031496, 0.007874015748031496]\n",
      "State: ['ego_3', 'car_2']\tAction: 2\tBelief: [0.1328125, 0.6875, 0.1640625, 0.0078125, 0.0078125]\n",
      "State: ['ego_3', 'car_2']\tAction: 2\tBelief: [0.13178294573643412, 0.689922480620155, 0.16279069767441862, 0.007751937984496124, 0.007751937984496124]\n",
      "State: ['ego_3', 'car_2']\tAction: 2\tBelief: [0.13076923076923078, 0.6923076923076923, 0.16153846153846155, 0.007692307692307693, 0.007692307692307693]\n",
      "State: ['ego_3', 'car_2']\tAction: 2\tBelief: [0.1297709923664122, 0.6946564885496184, 0.16030534351145037, 0.007633587786259542, 0.007633587786259542]\n",
      "State: ['ego_3', 'car_2']\tAction: 2\tBelief: [0.12878787878787878, 0.696969696969697, 0.1590909090909091, 0.007575757575757576, 0.007575757575757576]\n",
      "State: ['ego_3', 'car_2']\tAction: 2\tBelief: [0.12781954887218044, 0.6917293233082706, 0.16541353383458646, 0.007518796992481203, 0.007518796992481203]\n",
      "State: ['ego_3', 'car_2']\tAction: 2\tBelief: [0.12686567164179105, 0.6940298507462687, 0.16417910447761194, 0.007462686567164179, 0.007462686567164179]\n",
      "State: ['ego_3', 'car_2']\tAction: 2\tBelief: [0.1259259259259259, 0.6962962962962963, 0.16296296296296298, 0.007407407407407408, 0.007407407407407408]\n",
      "State: ['ego_3', 'car_2']\tAction: 2\tBelief: [0.125, 0.6985294117647058, 0.16176470588235295, 0.007352941176470588, 0.007352941176470588]\n",
      "State: ['ego_3', 'car_2']\tAction: 2\tBelief: [0.12408759124087591, 0.7007299270072993, 0.16058394160583941, 0.0072992700729927005, 0.0072992700729927005]\n",
      "State: ['ego_3', 'car_2']\tAction: 2\tBelief: [0.12318840579710146, 0.7028985507246377, 0.15942028985507245, 0.007246376811594203, 0.007246376811594203]\n",
      "State: ['ego_3', 'car_2']\tAction: 2\tBelief: [0.1223021582733813, 0.7050359712230215, 0.15827338129496402, 0.007194244604316547, 0.007194244604316547]\n",
      "State: ['ego_3', 'car_2']\tAction: 2\tBelief: [0.12142857142857143, 0.7071428571428572, 0.15714285714285714, 0.007142857142857143, 0.007142857142857143]\n",
      "State: ['ego_3', 'car_2']\tAction: 2\tBelief: [0.12056737588652482, 0.7092198581560284, 0.15602836879432624, 0.0070921985815602835, 0.0070921985815602835]\n",
      "State: ['ego_3', 'car_2']\tAction: 2\tBelief: [0.11971830985915492, 0.7112676056338029, 0.15492957746478872, 0.007042253521126761, 0.007042253521126761]\n",
      "State: ['ego_3', 'car_2']\tAction: 2\tBelief: [0.1258741258741259, 0.7062937062937062, 0.15384615384615385, 0.006993006993006993, 0.006993006993006993]\n",
      "State: ['ego_3', 'car_2']\tAction: 2\tBelief: [0.125, 0.7083333333333334, 0.1527777777777778, 0.006944444444444444, 0.006944444444444444]\n",
      "State: ['ego_3', 'car_2']\tAction: 2\tBelief: [0.12413793103448276, 0.7103448275862069, 0.15172413793103448, 0.006896551724137931, 0.006896551724137931]\n",
      "State: ['ego_3', 'car_2']\tAction: 2\tBelief: [0.1232876712328767, 0.7123287671232876, 0.1506849315068493, 0.00684931506849315, 0.00684931506849315]\n",
      "State: ['ego_3', 'car_2']\tAction: 2\tBelief: [0.12244897959183673, 0.7142857142857143, 0.14965986394557823, 0.006802721088435374, 0.006802721088435374]\n",
      "State: ['ego_3', 'car_2']\tAction: 2\tBelief: [0.12162162162162163, 0.7162162162162162, 0.14864864864864866, 0.006756756756756757, 0.006756756756756757]\n",
      "State: ['ego_3', 'car_2']\tAction: 2\tBelief: [0.12080536912751678, 0.7181208053691275, 0.1476510067114094, 0.006711409395973154, 0.006711409395973154]\n",
      "State: ['ego_3', 'car_2']\tAction: 2\tBelief: [0.12, 0.72, 0.14666666666666667, 0.006666666666666667, 0.006666666666666667]\n",
      "State: ['ego_3', 'car_2']\tAction: 2\tBelief: [0.11920529801324503, 0.7218543046357616, 0.1456953642384106, 0.006622516556291391, 0.006622516556291391]\n",
      "State: ['ego_3', 'car_2']\tAction: 2\tBelief: [0.11842105263157894, 0.7236842105263158, 0.14473684210526316, 0.006578947368421052, 0.006578947368421052]\n",
      "State: ['ego_3', 'car_2']\tAction: 2\tBelief: [0.11764705882352941, 0.7254901960784313, 0.1437908496732026, 0.006535947712418301, 0.006535947712418301]\n",
      "State: ['ego_3', 'car_2']\tAction: 2\tBelief: [0.11688311688311688, 0.7272727272727273, 0.14285714285714285, 0.006493506493506494, 0.006493506493506494]\n",
      "State: ['ego_3', 'car_2']\tAction: 2\tBelief: [0.11612903225806452, 0.7290322580645161, 0.14193548387096774, 0.0064516129032258064, 0.0064516129032258064]\n",
      "State: ['ego_3', 'car_2']\tAction: 2\tBelief: [0.11538461538461539, 0.7243589743589743, 0.14743589743589744, 0.00641025641025641, 0.00641025641025641]\n",
      "State: ['ego_3', 'car_2']\tAction: 2\tBelief: [0.11464968152866242, 0.7261146496815286, 0.1464968152866242, 0.006369426751592357, 0.006369426751592357]\n",
      "State: ['ego_3', 'car_2']\tAction: 2\tBelief: [0.11392405063291139, 0.7215189873417721, 0.1518987341772152, 0.006329113924050633, 0.006329113924050633]\n",
      "State: ['ego_3', 'car_2']\tAction: 2\tBelief: [0.11320754716981132, 0.7232704402515723, 0.1509433962264151, 0.006289308176100629, 0.006289308176100629]\n",
      "State: ['ego_3', 'car_2']\tAction: 2\tBelief: [0.1125, 0.725, 0.15, 0.00625, 0.00625]\n",
      "State: ['ego_3', 'car_2']\tAction: 2\tBelief: [0.11180124223602485, 0.7204968944099379, 0.15527950310559005, 0.006211180124223602, 0.006211180124223602]\n",
      "State: ['ego_3', 'car_2']\tAction: 2\tBelief: [0.11728395061728394, 0.7160493827160493, 0.15432098765432098, 0.006172839506172839, 0.006172839506172839]\n",
      "State: ['ego_3', 'car_2']\tAction: 2\tBelief: [0.1165644171779141, 0.7177914110429447, 0.15337423312883436, 0.006134969325153374, 0.006134969325153374]\n",
      "State: ['ego_3', 'car_2']\tAction: 2\tBelief: [0.11585365853658537, 0.7195121951219512, 0.1524390243902439, 0.006097560975609756, 0.006097560975609756]\n",
      "State: ['ego_3', 'car_2']\tAction: 2\tBelief: [0.11515151515151516, 0.7212121212121212, 0.15151515151515152, 0.006060606060606061, 0.006060606060606061]\n",
      "State: ['ego_3', 'car_2']\tAction: 2\tBelief: [0.1144578313253012, 0.7228915662650602, 0.15060240963855423, 0.006024096385542169, 0.006024096385542169]\n",
      "State: ['ego_3', 'car_2']\tAction: 2\tBelief: [0.11377245508982035, 0.7245508982035929, 0.1497005988023952, 0.005988023952095809, 0.005988023952095809]\n",
      "State: ['ego_3', 'car_2']\tAction: 2\tBelief: [0.1130952380952381, 0.7261904761904762, 0.1488095238095238, 0.005952380952380952, 0.005952380952380952]\n",
      "State: ['ego_3', 'car_2']\tAction: 2\tBelief: [0.11834319526627218, 0.7218934911242604, 0.14792899408284024, 0.005917159763313609, 0.005917159763313609]\n",
      "State: ['ego_3', 'car_2']\tAction: 2\tBelief: [0.11764705882352941, 0.7235294117647059, 0.14705882352941177, 0.0058823529411764705, 0.0058823529411764705]\n",
      "State: ['ego_3', 'car_2']\tAction: 2\tBelief: [0.11695906432748537, 0.7251461988304093, 0.14619883040935672, 0.005847953216374269, 0.005847953216374269]\n",
      "State: ['ego_3', 'car_2']\tAction: 2\tBelief: [0.11627906976744186, 0.7267441860465116, 0.14534883720930233, 0.005813953488372093, 0.005813953488372093]\n",
      "State: ['ego_3', 'car_2']\tAction: 2\tBelief: [0.11560693641618497, 0.7283236994219653, 0.14450867052023122, 0.005780346820809248, 0.005780346820809248]\n",
      "State: ['ego_3', 'car_2']\tAction: 2\tBelief: [0.1206896551724138, 0.7241379310344828, 0.14367816091954022, 0.005747126436781609, 0.005747126436781609]\n",
      "State: ['ego_3', 'car_2']\tAction: 2\tBelief: [0.12, 0.7257142857142858, 0.14285714285714285, 0.005714285714285714, 0.005714285714285714]\n",
      "State: ['ego_3', 'car_2']\tAction: 2\tBelief: [0.11931818181818182, 0.7272727272727273, 0.14204545454545456, 0.005681818181818182, 0.005681818181818182]\n",
      "State: ['ego_3', 'car_2']\tAction: 2\tBelief: [0.11864406779661017, 0.7288135593220338, 0.14124293785310735, 0.005649717514124294, 0.005649717514124294]\n",
      "State: ['ego_3', 'car_2']\tAction: 2\tBelief: [0.11797752808988764, 0.7303370786516854, 0.1404494382022472, 0.0056179775280898875, 0.0056179775280898875]\n",
      "State: ['ego_3', 'car_2']\tAction: 2\tBelief: [0.11731843575418995, 0.7318435754189944, 0.13966480446927373, 0.00558659217877095, 0.00558659217877095]\n",
      "State: ['ego_3', 'car_2']\tAction: 2\tBelief: [0.11666666666666667, 0.7333333333333333, 0.1388888888888889, 0.005555555555555556, 0.005555555555555556]\n",
      "State: ['ego_4', 'car_2']\tAction: 0\tBelief: [0.2, 0.2, 0.2, 0.2, 0.2]\n",
      "State: ['ego_5', 'car_2']\tAction: 0\tBelief: [0.2, 0.2, 0.2, 0.2, 0.2]\n"
     ]
    }
   ],
   "source": [
    "done = False\n",
    "state = [\"ego_1\", \"car_1\"]\n",
    "state_list = [state]\n",
    "b = dist.get_posterior_predictive()\n",
    "print(\"State: {}\\tAction: {}\\tBelief: {}\".format(state, None, b))\n",
    "\n",
    "while not done:\n",
    "    belief = propagate_belief(b, state[0])\n",
    "    next_action = QMDP(V_star=V_star, belief=belief, mdp=tinter_qmdp)\n",
    "    \n",
    "    if int(next_action) == 2:\n",
    "        true_state_idx = int(state[1].replace(\"car_\", \"\")) - 1\n",
    "        obs = np.random.choice([min(true_state_idx-1, 0), true_state_idx, min(true_state_idx+1, 4)], p=[0.1, 0.8, 0.1])\n",
    "        b = dist.get_posterior_predictive([obs])\n",
    "    elif int(next_action) == 0:\n",
    "        dist.reset()\n",
    "        b = dist.get_posterior_predictive()\n",
    "\n",
    "    state_index = tinter_qmdp.get_index(state)\n",
    "\n",
    "    next_state_indices = np.where(tinter_qmdp.P[:, state_index, int(next_action)] > 0.0)[0]\n",
    "    next_state_p = tinter_qmdp.P[:, state_index, int(next_action)][next_state_indices]\n",
    "    next_state_index = np.random.choice(next_state_indices, p=next_state_p)\n",
    "    \n",
    "    state = tinter_qmdp.get_real_state_value(next_state_index)\n",
    "    state_list.append(state)\n",
    "\n",
    "    if state[0] == \"ego_5\" or state[1] == \"car_5\":\n",
    "        done = True\n",
    "    \n",
    "    print(\"State: {}\\tAction: {}\\tBelief: {}\".format(state, next_action, b))"
   ]
  },
  {
   "cell_type": "code",
   "execution_count": null,
   "id": "b996d5d4-570d-478f-aa4d-4e5ffb683eda",
   "metadata": {},
   "outputs": [],
   "source": []
  }
 ],
 "metadata": {
  "kernelspec": {
   "display_name": "Python 3 (ipykernel)",
   "language": "python",
   "name": "python3"
  },
  "language_info": {
   "codemirror_mode": {
    "name": "ipython",
    "version": 3
   },
   "file_extension": ".py",
   "mimetype": "text/x-python",
   "name": "python",
   "nbconvert_exporter": "python",
   "pygments_lexer": "ipython3",
   "version": "3.9.18"
  }
 },
 "nbformat": 4,
 "nbformat_minor": 5
}
